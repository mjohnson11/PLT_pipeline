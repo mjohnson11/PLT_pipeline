{
 "cells": [
  {
   "cell_type": "code",
   "execution_count": 6,
   "metadata": {},
   "outputs": [],
   "source": [
    "from glob import glob\n",
    "from collections import defaultdict"
   ]
  },
  {
   "cell_type": "code",
   "execution_count": 4,
   "metadata": {},
   "outputs": [
    {
     "name": "stdout",
     "output_type": "stream",
     "text": [
      "['run_SLAMseq_dBFA1.sh', 'run_SLAMseq_hBFA1_p2.sh', 'run_SLAMseq_hBFA1.sh', 'run_SLAMseq_hBFA2_s.sh', 'run_SLAMseq.sh', 'run_sLT_GlyEtoH.sh', 'run_cluster_all.sh', 'run_sLT_08M_NaCl_2N.sh', 'run_sLT_02M_NaCl_2N_R1_extended.sh', 'run_sLT_02M_NaCl_2N_R1.sh', 'run_sLT_02M_NaCl_alpha_R1.sh', 'run_sLT_08M_NaCl_alpha_R1.sh', 'run_sLT_21C_2N_R1_extended.sh', 'run_sLT_21C_2N_R1.sh', 'run_sLT_21C_alpha_R1.sh', 'run_sLT_CLM_alpha_R1.sh', 'run_sLT_FLC32_2N_R1.sh', 'run_sLT_FLC32_alpha_R1.sh', 'run_sLT_FLC4_2N_R1.sh', 'run_sLT_FLC4_alpha_R1.sh', 'run_sLT_GlyEtOH_alpha_R1.sh', 'run_sLT_high_unused.sh', 'run_sLT_M3_2N_R1.sh', 'run_sLT_M3_alpha_R1.sh', 'run_sLT_mid_unused_2N.sh', 'run_sLT_Unused_alpha.sh', 'run_hLT_YPD_21_R2.sh', 'run_hLT_37C_2N_R1.sh', 'run_hLT_37C_2N_R2.sh', 'run_hLT_48Hr_2N_R1.sh', 'run_hLT_48Hr_2N_R2.sh', 'run_hLT_pH3_8_2N_R1.sh', 'run_hLT_pH3_8_2N_R2.sh', 'run_hLT_pH7_3_2N_R1.sh', 'run_hLT_pH7_3_2N_R2.sh', 'run_hLT_SC_2N_R1.sh', 'run_hLT_SC_2N_R2.sh', 'run_hLT_YPD_2N_R1.sh']\n"
     ]
    }
   ],
   "source": [
    "flist = glob('../../../pre2018/scripts/shell_running/old_shells/*.sh')\n",
    "print([i.split('/')[-1] for i in flist])"
   ]
  },
  {
   "cell_type": "code",
   "execution_count": 10,
   "metadata": {},
   "outputs": [],
   "source": [
    "info = defaultdict(dict)\n",
    "for f in flist:\n",
    "    name = f.split('/')[-1]\n",
    "    with open(f, 'r') as infile:\n",
    "        for line in infile:\n",
    "            if '-' in line:\n",
    "                x = line[line.index('-'):]\n",
    "                if '=' in x:\n",
    "                    opt = x[:x.index('=')]\n",
    "                    res = x[x.index('=')+1:]\n",
    "                else:\n",
    "                    opt = x[:x.index(' ')]\n",
    "                    res = x[x.index(' ')+1:]\n",
    "                info[name][opt] = res"
   ]
  },
  {
   "cell_type": "code",
   "execution_count": 30,
   "metadata": {},
   "outputs": [
    {
     "name": "stdout",
     "output_type": "stream",
     "text": [
      "run_SLAMseq_dBFA1.sh 60000               # Memory pool for all cores (see also --mem-per-cpu)\n",
      "\n",
      "run_SLAMseq_hBFA1_p2.sh 50000               # Memory pool for all cores (see also --mem-per-cpu)\n",
      "\n",
      "run_SLAMseq_hBFA1.sh 40000               # Memory pool for all cores (see also --mem-per-cpu)\n",
      "\n",
      "run_SLAMseq_hBFA2_s.sh 50000               # Memory pool for all cores (see also --mem-per-cpu)\n",
      "\n",
      "run_SLAMseq.sh 15000               # Memory pool for all cores (see also --mem-per-cpu)\n",
      "\n",
      "run_sLT_GlyEtoH.sh 20000               # Memory pool for all cores (see also --mem-per-cpu)\n",
      "\n",
      "run_cluster_all.sh 25000               # Memory pool for all cores (see also --mem-per-cpu)\n",
      "\n",
      "run_sLT_08M_NaCl_2N.sh 10000               # Memory pool for all cores (see also --mem-per-cpu)\n",
      "\n",
      "run_sLT_02M_NaCl_2N_R1_extended.sh 20000               # Memory pool for all cores (see also --mem-per-cpu)\n",
      "\n",
      "run_sLT_02M_NaCl_2N_R1.sh 20000               # Memory pool for all cores (see also --mem-per-cpu)\n",
      "\n",
      "run_sLT_02M_NaCl_alpha_R1.sh 15000               # Memory pool for all cores (see also --mem-per-cpu)\n",
      "\n",
      "run_sLT_08M_NaCl_alpha_R1.sh 15000               # Memory pool for all cores (see also --mem-per-cpu)\n",
      "\n",
      "run_sLT_21C_2N_R1_extended.sh 20000               # Memory pool for all cores (see also --mem-per-cpu)\n",
      "\n",
      "run_sLT_21C_2N_R1.sh 20000               # Memory pool for all cores (see also --mem-per-cpu)\n",
      "\n",
      "run_sLT_21C_alpha_R1.sh 20000               # Memory pool for all cores (see also --mem-per-cpu)\n",
      "\n",
      "run_sLT_CLM_alpha_R1.sh 15000               # Memory pool for all cores (see also --mem-per-cpu)\n",
      "\n",
      "run_sLT_FLC32_2N_R1.sh 20000               # Memory pool for all cores (see also --mem-per-cpu)\n",
      "\n",
      "run_sLT_FLC32_alpha_R1.sh 15000               # Memory pool for all cores (see also --mem-per-cpu)\n",
      "\n",
      "run_sLT_FLC4_2N_R1.sh 20000               # Memory pool for all cores (see also --mem-per-cpu)\n",
      "\n",
      "run_sLT_FLC4_alpha_R1.sh 15000               # Memory pool for all cores (see also --mem-per-cpu)\n",
      "\n",
      "run_sLT_GlyEtOH_alpha_R1.sh 20000               # Memory pool for all cores (see also --mem-per-cpu)\n",
      "\n",
      "run_sLT_high_unused.sh 10000               # Memory pool for all cores (see also --mem-per-cpu)\n",
      "\n",
      "run_sLT_M3_2N_R1.sh 20000               # Memory pool for all cores (see also --mem-per-cpu)\n",
      "\n",
      "run_sLT_M3_alpha_R1.sh 15000               # Memory pool for all cores (see also --mem-per-cpu)\n",
      "\n",
      "run_sLT_mid_unused_2N.sh 10000               # Memory pool for all cores (see also --mem-per-cpu)\n",
      "\n",
      "run_sLT_Unused_alpha.sh 10000               # Memory pool for all cores (see also --mem-per-cpu)\n",
      "\n",
      "run_hLT_YPD_21_R2.sh 30000               # Memory pool for all cores (see also --mem-per-cpu)\n",
      "\n",
      "run_hLT_37C_2N_R1.sh 25000               # Memory pool for all cores (see also --mem-per-cpu)\n",
      "\n",
      "run_hLT_37C_2N_R2.sh 25000               # Memory pool for all cores (see also --mem-per-cpu)\n",
      "\n",
      "run_hLT_48Hr_2N_R1.sh 25000               # Memory pool for all cores (see also --mem-per-cpu)\n",
      "\n",
      "run_hLT_48Hr_2N_R2.sh 25000               # Memory pool for all cores (see also --mem-per-cpu)\n",
      "\n",
      "run_hLT_pH3_8_2N_R1.sh 25000               # Memory pool for all cores (see also --mem-per-cpu)\n",
      "\n",
      "run_hLT_pH3_8_2N_R2.sh 25000               # Memory pool for all cores (see also --mem-per-cpu)\n",
      "\n",
      "run_hLT_pH7_3_2N_R1.sh 25000               # Memory pool for all cores (see also --mem-per-cpu)\n",
      "\n",
      "run_hLT_pH7_3_2N_R2.sh 25000               # Memory pool for all cores (see also --mem-per-cpu)\n",
      "\n",
      "run_hLT_SC_2N_R1.sh 25000               # Memory pool for all cores (see also --mem-per-cpu)\n",
      "\n",
      "run_hLT_SC_2N_R2.sh 25000               # Memory pool for all cores (see also --mem-per-cpu)\n",
      "\n",
      "run_hLT_YPD_2N_R1.sh 25000               # Memory pool for all cores (see also --mem-per-cpu)\n",
      "\n"
     ]
    }
   ],
   "source": [
    "for f in info:\n",
    "    print(f, info[f]['--mem'])"
   ]
  },
  {
   "cell_type": "code",
   "execution_count": null,
   "metadata": {},
   "outputs": [],
   "source": [
    "mems = {\n",
    "    'hLT': '30000',\n",
    "    'sLT_mid': '10000',\n",
    "    'sLT_high': '20000',\n",
    "    'sLT_hap': '20000'\n",
    "}\n",
    "times = {\n",
    "    'hLT': '0-20:00',\n",
    "    'sLT_mid': '0-10:00',\n",
    "    'sLT_high': '0-10:00',\n",
    "    'sLT_hap': '0-20:00'\n",
    "}    \n"
   ]
  },
  {
   "cell_type": "code",
   "execution_count": 21,
   "metadata": {},
   "outputs": [],
   "source": [
    "with open('run_hLT_37C_2N_R1.sh', 'r') as infile:\n",
    "    lines = infile.readlines()\n",
    "for env in ['37C', 'pH7_3', 'pH3_8', 'YPD', 'SC', '48Hr']:\n",
    "    for rep in ['R1', 'R2']:\n",
    "        with open('run_hLT_' + env + '_2N_' + rep + '.sh', 'w') as outfile:\n",
    "            for line in lines:\n",
    "                outfile.write(line.replace('37C', env).replace('R1', rep).replace(rep+'.fastq', 'R1.fastq'))"
   ]
  },
  {
   "cell_type": "code",
   "execution_count": 17,
   "metadata": {},
   "outputs": [
    {
     "name": "stdout",
     "output_type": "stream",
     "text": [
      "37C R1 9\n",
      "37C R2 9\n",
      "pH7_3 R1 9\n",
      "pH7_3 R2 9\n",
      "pH3_8 R1 9\n",
      "pH3_8 R2 9\n",
      "YPD R1 9\n",
      "YPD R2 9\n",
      "SC R1 9\n",
      "SC R2 9\n",
      "48Hr R1 9\n",
      "48Hr R2 9\n"
     ]
    }
   ],
   "source": [
    "for env in ['37C', 'pH7_3', 'pH3_8', 'YPD', 'SC', '48Hr']:\n",
    "    for rep in ['R1', 'R2']:\n",
    "        with open('run_hLT_' + env + '_2N_' + rep + '.sh', 'r') as infile:\n",
    "            lines = infile.readlines()\n",
    "            dem_map = lines[14].split(' ')[2]\n",
    "            with open(dem_map, 'r') as inner:\n",
    "                print(env, rep, len(inner.readlines()))"
   ]
  },
  {
   "cell_type": "code",
   "execution_count": 18,
   "metadata": {},
   "outputs": [
    {
     "name": "stdout",
     "output_type": "stream",
     "text": [
      "['run_sLT_CLM_2N_drug_extra_tps.sh', 'run_sLT_CLM_alpha_drug_extra_tps.sh', 'run_sLT_FLC4_2N_drug_extra_tps.sh', 'run_sLT_FLC4_alpha_drug_extra_tps.sh']\n"
     ]
    }
   ],
   "source": [
    "f2 = glob('run_sL*')\n",
    "print(f2)"
   ]
  },
  {
   "cell_type": "code",
   "execution_count": 36,
   "metadata": {},
   "outputs": [
    {
     "name": "stdout",
     "output_type": "stream",
     "text": [
      "run_sLT_CLM_2N_drug_extra_tps.sh 4\n",
      "run_sLT_CLM_alpha_drug_extra_tps.sh 8\n",
      "run_sLT_FLC4_2N_drug_extra_tps.sh 8\n",
      "run_sLT_FLC4_alpha_drug_extra_tps.sh 8\n"
     ]
    }
   ],
   "source": [
    "for f in f2:\n",
    "    with open(f, 'r') as infile:\n",
    "        lines = infile.readlines()\n",
    "        dem_map = lines[14].split(' ')[2]\n",
    "        with open(dem_map, 'r') as inner:\n",
    "            print(f, len(inner.readlines()))"
   ]
  },
  {
   "cell_type": "code",
   "execution_count": 24,
   "metadata": {},
   "outputs": [],
   "source": [
    "with open('run_sLT_CLM_2N_R1.sh', 'r') as infile:\n",
    "    lines = infile.readlines()\n",
    "for env in ['08M_NaCl', 'GlyEtOH']:\n",
    "    with open('run_sLT_' + env + '_2N_R1.sh', 'w') as outfile:\n",
    "        for line in lines:\n",
    "            outfile.write(line.replace('CLM', env))"
   ]
  },
  {
   "cell_type": "code",
   "execution_count": 35,
   "metadata": {},
   "outputs": [
    {
     "name": "stdout",
     "output_type": "stream",
     "text": [
      "08M_NaCl 10\n",
      "GlyEtOH 18\n",
      "CLM 6\n"
     ]
    }
   ],
   "source": [
    "for env in ['08M_NaCl', 'GlyEtOH', 'CLM']:\n",
    "    with open('run_sLT_' + env + '_2N_R1.sh', 'r') as infile:\n",
    "        lines = infile.readlines()\n",
    "        dem_map = lines[14].split(' ')[2]\n",
    "        with open(dem_map, 'r') as inner:\n",
    "            print(env, len(inner.readlines()))"
   ]
  },
  {
   "cell_type": "code",
   "execution_count": 26,
   "metadata": {},
   "outputs": [],
   "source": [
    "with open('run_sLT_FLC4_2N_R1.sh', 'r') as infile:\n",
    "    lines = infile.readlines()\n",
    "for env in ['21C', 'FLC32', 'M3', '02M_NaCl']:\n",
    "    with open('run_sLT_' + env + '_2N_R1.sh', 'w') as outfile:\n",
    "        for line in lines:\n",
    "            outfile.write(line.replace('FLC4', env))"
   ]
  },
  {
   "cell_type": "code",
   "execution_count": 34,
   "metadata": {},
   "outputs": [
    {
     "name": "stdout",
     "output_type": "stream",
     "text": [
      "FLC4 11\n",
      "21C 17\n",
      "FLC32 12\n",
      "M3 9\n",
      "02M_NaCl 17\n"
     ]
    }
   ],
   "source": [
    "for env in ['FLC4', '21C', 'FLC32', 'M3', '02M_NaCl']:\n",
    "    with open('run_sLT_' + env + '_2N_R1.sh', 'r') as infile:\n",
    "        lines = infile.readlines()\n",
    "        dem_map = lines[14].split(' ')[2]\n",
    "        with open(dem_map, 'r') as inner:\n",
    "            print(env, len(inner.readlines()))"
   ]
  },
  {
   "cell_type": "code",
   "execution_count": 28,
   "metadata": {},
   "outputs": [],
   "source": [
    "with open('run_sLT_FLC4_alpha_R1.sh', 'r') as infile:\n",
    "    lines = infile.readlines()\n",
    "for env in ['21C', 'FLC32', 'M3', '02M_NaCl', 'GlyEtOH', 'CLM', '08M_NaCl']:\n",
    "    with open('run_sLT_' + env + '_alpha_R1.sh', 'w') as outfile:\n",
    "        for line in lines:\n",
    "            outfile.write(line.replace('FLC4', env))"
   ]
  },
  {
   "cell_type": "code",
   "execution_count": 33,
   "metadata": {},
   "outputs": [
    {
     "name": "stdout",
     "output_type": "stream",
     "text": [
      "FLC4 11\n",
      "21C 11\n",
      "FLC32 11\n",
      "M3 11\n",
      "02M_NaCl 11\n",
      "GlyEtOH 11\n",
      "CLM 11\n",
      "08M_NaCl 11\n"
     ]
    }
   ],
   "source": [
    "for env in ['FLC4', '21C', 'FLC32', 'M3', '02M_NaCl', 'GlyEtOH', 'CLM', '08M_NaCl']:\n",
    "    with open('run_sLT_' + env + '_alpha_R1.sh', 'r') as infile:\n",
    "        lines = infile.readlines()\n",
    "        dem_map = lines[14].split(' ')[2]\n",
    "        with open(dem_map, 'r') as inner:\n",
    "            print(env, len(inner.readlines()))"
   ]
  },
  {
   "cell_type": "code",
   "execution_count": 31,
   "metadata": {},
   "outputs": [],
   "source": [
    "with open('run_sLT_21C_2N_R1_restart.sh', 'r') as infile:\n",
    "    lines = infile.readlines()\n",
    "for env in ['02M_NaCl']:\n",
    "    with open('run_sLT_' + env + '_2N_R1_restart.sh', 'w') as outfile:\n",
    "        for line in lines:\n",
    "            outfile.write(line.replace('21C', env))"
   ]
  },
  {
   "cell_type": "code",
   "execution_count": 37,
   "metadata": {},
   "outputs": [
    {
     "name": "stdout",
     "output_type": "stream",
     "text": [
      "21C 14\n",
      "02M_NaCl 14\n"
     ]
    }
   ],
   "source": [
    "for env in ['21C', '02M_NaCl']:\n",
    "    with open('run_sLT_' + env + '_2N_R1_restart.sh', 'r') as infile:\n",
    "        lines = infile.readlines()\n",
    "        dem_map = lines[14].split(' ')[2]\n",
    "        with open(dem_map, 'r') as inner:\n",
    "            print(env, len(inner.readlines()))"
   ]
  },
  {
   "cell_type": "code",
   "execution_count": 38,
   "metadata": {},
   "outputs": [
    {
     "name": "stdout",
     "output_type": "stream",
     "text": [
      "['run_sLT_02M_NaCl_2N_R1_restart.sh', 'run_sLT_CLM_2N_drug_extra_tps.sh', 'run_sLT_08M_NaCl_2N_R1.sh', 'run_sLT_GlyEtOH_2N_R1.sh', 'run_sLT_FLC4_2N_R1.sh', 'run_sLT_M3_2N_R1.sh', 'run_sLT_FLC4_alpha_R1.sh', 'run_sLT_21C_alpha_R1.sh', 'run_sLT_M3_alpha_R1.sh', 'run_sLT_GlyEtOH_alpha_R1.sh', 'run_sLT_CLM_alpha_R1.sh', 'run_sLT_21C_2N_R1_restart.sh', 'run_hLT_37C_2N_R2.sh', 'run_hLT_pH7_3_2N_R2.sh', 'run_hLT_pH3_8_2N_R1.sh', 'run_hLT_pH3_8_2N_R2.sh', 'run_hLT_YPD_2N_R1.sh', 'run_hLT_YPD_2N_R2.sh', 'run_hLT_SC_2N_R1.sh', 'run_hLT_SC_2N_R2.sh', 'run_hLT_48Hr_2N_R1.sh', 'run_hLT_48Hr_2N_R2.sh', 'run_hLT_pH7_3_2N_R1.sh', 'run_hLT_37C_2N_R1.sh', 'run_sLT_FLC4_2N_drug_extra_tps.sh', 'run_sLT_FLC4_alpha_drug_extra_tps.sh', 'run_sLT_CLM_alpha_drug_extra_tps.sh', 'run_sLT_CLM_2N_R1.sh', 'run_sLT_21C_2N_R1.sh', 'run_sLT_FLC32_2N_R1.sh', 'run_sLT_02M_NaCl_2N_R1.sh', 'run_sLT_FLC32_alpha_R1.sh', 'run_sLT_02M_NaCl_alpha_R1.sh', 'run_sLT_08M_NaCl_alpha_R1.sh']\n"
     ]
    }
   ],
   "source": [
    "f2 = glob('run_*LT*.sh')\n",
    "print(f2)"
   ]
  },
  {
   "cell_type": "code",
   "execution_count": 39,
   "metadata": {},
   "outputs": [
    {
     "name": "stdout",
     "output_type": "stream",
     "text": [
      "run_sLT_02M_NaCl_2N_R1_restart.sh 14\n",
      "run_sLT_CLM_2N_drug_extra_tps.sh 4\n",
      "run_sLT_08M_NaCl_2N_R1.sh 10\n",
      "run_sLT_GlyEtOH_2N_R1.sh 18\n",
      "run_sLT_FLC4_2N_R1.sh 11\n",
      "run_sLT_M3_2N_R1.sh 9\n",
      "run_sLT_FLC4_alpha_R1.sh 11\n",
      "run_sLT_21C_alpha_R1.sh 11\n",
      "run_sLT_M3_alpha_R1.sh 11\n",
      "run_sLT_GlyEtOH_alpha_R1.sh 11\n",
      "run_sLT_CLM_alpha_R1.sh 11\n",
      "run_sLT_21C_2N_R1_restart.sh 14\n",
      "run_hLT_37C_2N_R2.sh 9\n",
      "run_hLT_pH7_3_2N_R2.sh 9\n",
      "run_hLT_pH3_8_2N_R1.sh 9\n",
      "run_hLT_pH3_8_2N_R2.sh 9\n",
      "run_hLT_YPD_2N_R1.sh 9\n",
      "run_hLT_YPD_2N_R2.sh 9\n",
      "run_hLT_SC_2N_R1.sh 9\n",
      "run_hLT_SC_2N_R2.sh 9\n",
      "run_hLT_48Hr_2N_R1.sh 9\n",
      "run_hLT_48Hr_2N_R2.sh 9\n",
      "run_hLT_pH7_3_2N_R1.sh 9\n",
      "run_hLT_37C_2N_R1.sh 9\n",
      "run_sLT_FLC4_2N_drug_extra_tps.sh 8\n",
      "run_sLT_FLC4_alpha_drug_extra_tps.sh 8\n",
      "run_sLT_CLM_alpha_drug_extra_tps.sh 8\n",
      "run_sLT_CLM_2N_R1.sh 6\n",
      "run_sLT_21C_2N_R1.sh 17\n",
      "run_sLT_FLC32_2N_R1.sh 12\n",
      "run_sLT_02M_NaCl_2N_R1.sh 17\n",
      "run_sLT_FLC32_alpha_R1.sh 11\n",
      "run_sLT_02M_NaCl_alpha_R1.sh 11\n",
      "run_sLT_08M_NaCl_alpha_R1.sh 11\n"
     ]
    }
   ],
   "source": [
    "for f in f2:\n",
    "    with open(f, 'r') as infile:\n",
    "        lines = infile.readlines()\n",
    "        dem_map = lines[14].split(' ')[2]\n",
    "        with open(dem_map, 'r') as inner:\n",
    "            print(f, len(inner.readlines()))"
   ]
  },
  {
   "cell_type": "code",
   "execution_count": 42,
   "metadata": {},
   "outputs": [
    {
     "name": "stdout",
     "output_type": "stream",
     "text": [
      "30\n"
     ]
    }
   ],
   "source": [
    "already_run = ['run_sLT_CLM_2N_drug_extra_tps.sh', 'run_sLT_CLM_2N_R1.sh', 'run_sLT_FLC4_2N_R1.sh', 'run_hLT_37C_2N_R1.sh']\n",
    "with open('LT_batch_runner.sh', 'w') as outfile:\n",
    "    c = 0\n",
    "    for f in f2:\n",
    "        if f not in already_run:\n",
    "            outfile.write('sbatch ' + f + '\\n')\n",
    "            c += 1\n",
    "    print(c)"
   ]
  },
  {
   "cell_type": "code",
   "execution_count": null,
   "metadata": {},
   "outputs": [],
   "source": []
  }
 ],
 "metadata": {
  "kernelspec": {
   "display_name": "Python 3",
   "language": "python",
   "name": "python3"
  },
  "language_info": {
   "codemirror_mode": {
    "name": "ipython",
    "version": 3
   },
   "file_extension": ".py",
   "mimetype": "text/x-python",
   "name": "python",
   "nbconvert_exporter": "python",
   "pygments_lexer": "ipython3",
   "version": "3.6.4"
  }
 },
 "nbformat": 4,
 "nbformat_minor": 2
}
